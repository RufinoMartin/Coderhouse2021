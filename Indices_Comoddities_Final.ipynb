{
  "cells": [
    {
      "cell_type": "markdown",
      "metadata": {
        "id": "view-in-github",
        "colab_type": "text"
      },
      "source": [
        "<a href=\"https://colab.research.google.com/github/RufinoMartin/DataScience2021/blob/main/Indices_Comoddities_Final.ipynb\" target=\"_parent\"><img src=\"https://colab.research.google.com/assets/colab-badge.svg\" alt=\"Open In Colab\"/></a>"
      ]
    },
    {
      "cell_type": "markdown",
      "source": [
        "Este notebook reune Indices Mundiales de Commodities, extraidos de una base de datos en formato xlsx. del Fondo Monetario Internacional, al cual puede accederse con el enlace abajo:\n",
        "\n",
        "https://docs.google.com/spreadsheets/d/1pJewns-8gIg4QdaNZDFHK8MyVGx6KDKn/edit#gid=321170148\n",
        "\n",
        "\n",
        "La finalidad de este notebook es proveer variable/s para producir principalmente analisis uni y bivariados.\n",
        "Posteriormente formará parte del dataframe final. "
      ],
      "metadata": {
        "id": "BQmGueBfdRcT"
      },
      "id": "BQmGueBfdRcT"
    },
    {
      "cell_type": "code",
      "execution_count": 1,
      "id": "370b0cd4",
      "metadata": {
        "id": "370b0cd4"
      },
      "outputs": [],
      "source": [
        "# Importacion Librerias\n",
        "\n",
        "import pandas as pd\n",
        "import pandas_profiling\n",
        "from functools import reduce\n",
        "import numpy as np\n",
        "%matplotlib inline\n",
        "import matplotlib.pyplot as plt\n",
        "import matplotlib\n",
        "from matplotlib.pyplot import figure\n",
        "import seaborn as sns\n",
        "import matplotlib.dates as mdates\n",
        "from matplotlib.ticker import FormatStrFormatter\n",
        "\n",
        "\n"
      ]
    },
    {
      "cell_type": "markdown",
      "source": [
        "Realizamos la importancion directa de un CSV resultante de una wrangling del archivo del FMI. \n",
        "\n",
        "Para acceder al notebook de adquisicion y wrangling: \n",
        "\n",
        "https://github.com/RufinoMartin/DataScience2021/blob/main/Comoddities.ipynb"
      ],
      "metadata": {
        "id": "HlPrQKdMb5wo"
      },
      "id": "HlPrQKdMb5wo"
    },
    {
      "cell_type": "markdown",
      "source": [
        "De no funcionar el import de abajo, dirigirse a \n",
        "\n",
        "https://github.com/RufinoMartin/DataScience2021/blob/main/Commodities.csv\n",
        "\n",
        "Apretar \"Raw\", copiar y pegar ese URL en pd.read_csv(' '). "
      ],
      "metadata": {
        "id": "vVo_a4mk6dNl"
      },
      "id": "vVo_a4mk6dNl"
    },
    {
      "cell_type": "code",
      "execution_count": 2,
      "id": "b702f4ea",
      "metadata": {
        "scrolled": false,
        "colab": {
          "base_uri": "https://localhost:8080/",
          "height": 206
        },
        "id": "b702f4ea",
        "outputId": "9de852f4-0457-4bc6-c5b0-1d7dacdd4a74"
      },
      "outputs": [
        {
          "output_type": "execute_result",
          "data": {
            "text/plain": [
              "   Unnamed: 0      Año    Promedio   Alimentos  Industrial        Agro  \\\n",
              "0           0  01/2019  117.078244  100.466542  118.836909  103.536150   \n",
              "1           1  02/2019  119.011525   98.772205  125.808562  103.608780   \n",
              "2           2  03/2019  119.910036   98.063110  127.539176  105.409046   \n",
              "3           3  04/2019  123.416731  101.569201  129.656529  104.681017   \n",
              "4           4  05/2019  120.477541   98.094289  129.330578  105.436360   \n",
              "\n",
              "      Metales     Energia  \n",
              "0  114.711385  133.302098  \n",
              "1  120.811052  136.048817  \n",
              "2  121.105733  138.256367  \n",
              "3  121.924057  143.768294  \n",
              "4  121.161561  139.410557  "
            ],
            "text/html": [
              "\n",
              "  <div id=\"df-ed231ff5-a46d-4f55-9fa2-b694f53f9774\">\n",
              "    <div class=\"colab-df-container\">\n",
              "      <div>\n",
              "<style scoped>\n",
              "    .dataframe tbody tr th:only-of-type {\n",
              "        vertical-align: middle;\n",
              "    }\n",
              "\n",
              "    .dataframe tbody tr th {\n",
              "        vertical-align: top;\n",
              "    }\n",
              "\n",
              "    .dataframe thead th {\n",
              "        text-align: right;\n",
              "    }\n",
              "</style>\n",
              "<table border=\"1\" class=\"dataframe\">\n",
              "  <thead>\n",
              "    <tr style=\"text-align: right;\">\n",
              "      <th></th>\n",
              "      <th>Unnamed: 0</th>\n",
              "      <th>Año</th>\n",
              "      <th>Promedio</th>\n",
              "      <th>Alimentos</th>\n",
              "      <th>Industrial</th>\n",
              "      <th>Agro</th>\n",
              "      <th>Metales</th>\n",
              "      <th>Energia</th>\n",
              "    </tr>\n",
              "  </thead>\n",
              "  <tbody>\n",
              "    <tr>\n",
              "      <th>0</th>\n",
              "      <td>0</td>\n",
              "      <td>01/2019</td>\n",
              "      <td>117.078244</td>\n",
              "      <td>100.466542</td>\n",
              "      <td>118.836909</td>\n",
              "      <td>103.536150</td>\n",
              "      <td>114.711385</td>\n",
              "      <td>133.302098</td>\n",
              "    </tr>\n",
              "    <tr>\n",
              "      <th>1</th>\n",
              "      <td>1</td>\n",
              "      <td>02/2019</td>\n",
              "      <td>119.011525</td>\n",
              "      <td>98.772205</td>\n",
              "      <td>125.808562</td>\n",
              "      <td>103.608780</td>\n",
              "      <td>120.811052</td>\n",
              "      <td>136.048817</td>\n",
              "    </tr>\n",
              "    <tr>\n",
              "      <th>2</th>\n",
              "      <td>2</td>\n",
              "      <td>03/2019</td>\n",
              "      <td>119.910036</td>\n",
              "      <td>98.063110</td>\n",
              "      <td>127.539176</td>\n",
              "      <td>105.409046</td>\n",
              "      <td>121.105733</td>\n",
              "      <td>138.256367</td>\n",
              "    </tr>\n",
              "    <tr>\n",
              "      <th>3</th>\n",
              "      <td>3</td>\n",
              "      <td>04/2019</td>\n",
              "      <td>123.416731</td>\n",
              "      <td>101.569201</td>\n",
              "      <td>129.656529</td>\n",
              "      <td>104.681017</td>\n",
              "      <td>121.924057</td>\n",
              "      <td>143.768294</td>\n",
              "    </tr>\n",
              "    <tr>\n",
              "      <th>4</th>\n",
              "      <td>4</td>\n",
              "      <td>05/2019</td>\n",
              "      <td>120.477541</td>\n",
              "      <td>98.094289</td>\n",
              "      <td>129.330578</td>\n",
              "      <td>105.436360</td>\n",
              "      <td>121.161561</td>\n",
              "      <td>139.410557</td>\n",
              "    </tr>\n",
              "  </tbody>\n",
              "</table>\n",
              "</div>\n",
              "      <button class=\"colab-df-convert\" onclick=\"convertToInteractive('df-ed231ff5-a46d-4f55-9fa2-b694f53f9774')\"\n",
              "              title=\"Convert this dataframe to an interactive table.\"\n",
              "              style=\"display:none;\">\n",
              "        \n",
              "  <svg xmlns=\"http://www.w3.org/2000/svg\" height=\"24px\"viewBox=\"0 0 24 24\"\n",
              "       width=\"24px\">\n",
              "    <path d=\"M0 0h24v24H0V0z\" fill=\"none\"/>\n",
              "    <path d=\"M18.56 5.44l.94 2.06.94-2.06 2.06-.94-2.06-.94-.94-2.06-.94 2.06-2.06.94zm-11 1L8.5 8.5l.94-2.06 2.06-.94-2.06-.94L8.5 2.5l-.94 2.06-2.06.94zm10 10l.94 2.06.94-2.06 2.06-.94-2.06-.94-.94-2.06-.94 2.06-2.06.94z\"/><path d=\"M17.41 7.96l-1.37-1.37c-.4-.4-.92-.59-1.43-.59-.52 0-1.04.2-1.43.59L10.3 9.45l-7.72 7.72c-.78.78-.78 2.05 0 2.83L4 21.41c.39.39.9.59 1.41.59.51 0 1.02-.2 1.41-.59l7.78-7.78 2.81-2.81c.8-.78.8-2.07 0-2.86zM5.41 20L4 18.59l7.72-7.72 1.47 1.35L5.41 20z\"/>\n",
              "  </svg>\n",
              "      </button>\n",
              "      \n",
              "  <style>\n",
              "    .colab-df-container {\n",
              "      display:flex;\n",
              "      flex-wrap:wrap;\n",
              "      gap: 12px;\n",
              "    }\n",
              "\n",
              "    .colab-df-convert {\n",
              "      background-color: #E8F0FE;\n",
              "      border: none;\n",
              "      border-radius: 50%;\n",
              "      cursor: pointer;\n",
              "      display: none;\n",
              "      fill: #1967D2;\n",
              "      height: 32px;\n",
              "      padding: 0 0 0 0;\n",
              "      width: 32px;\n",
              "    }\n",
              "\n",
              "    .colab-df-convert:hover {\n",
              "      background-color: #E2EBFA;\n",
              "      box-shadow: 0px 1px 2px rgba(60, 64, 67, 0.3), 0px 1px 3px 1px rgba(60, 64, 67, 0.15);\n",
              "      fill: #174EA6;\n",
              "    }\n",
              "\n",
              "    [theme=dark] .colab-df-convert {\n",
              "      background-color: #3B4455;\n",
              "      fill: #D2E3FC;\n",
              "    }\n",
              "\n",
              "    [theme=dark] .colab-df-convert:hover {\n",
              "      background-color: #434B5C;\n",
              "      box-shadow: 0px 1px 3px 1px rgba(0, 0, 0, 0.15);\n",
              "      filter: drop-shadow(0px 1px 2px rgba(0, 0, 0, 0.3));\n",
              "      fill: #FFFFFF;\n",
              "    }\n",
              "  </style>\n",
              "\n",
              "      <script>\n",
              "        const buttonEl =\n",
              "          document.querySelector('#df-ed231ff5-a46d-4f55-9fa2-b694f53f9774 button.colab-df-convert');\n",
              "        buttonEl.style.display =\n",
              "          google.colab.kernel.accessAllowed ? 'block' : 'none';\n",
              "\n",
              "        async function convertToInteractive(key) {\n",
              "          const element = document.querySelector('#df-ed231ff5-a46d-4f55-9fa2-b694f53f9774');\n",
              "          const dataTable =\n",
              "            await google.colab.kernel.invokeFunction('convertToInteractive',\n",
              "                                                     [key], {});\n",
              "          if (!dataTable) return;\n",
              "\n",
              "          const docLinkHtml = 'Like what you see? Visit the ' +\n",
              "            '<a target=\"_blank\" href=https://colab.research.google.com/notebooks/data_table.ipynb>data table notebook</a>'\n",
              "            + ' to learn more about interactive tables.';\n",
              "          element.innerHTML = '';\n",
              "          dataTable['output_type'] = 'display_data';\n",
              "          await google.colab.output.renderOutput(dataTable, element);\n",
              "          const docLink = document.createElement('div');\n",
              "          docLink.innerHTML = docLinkHtml;\n",
              "          element.appendChild(docLink);\n",
              "        }\n",
              "      </script>\n",
              "    </div>\n",
              "  </div>\n",
              "  "
            ]
          },
          "metadata": {},
          "execution_count": 2
        }
      ],
      "source": [
        "#Importamos dataset.\n",
        "\n",
        "df_comms = pd.read_csv('https://raw.githubusercontent.com/RufinoMartin/DataScience2021/main/Commodities.csv?token=GHSAT0AAAAAABRYGSF2XAACVLFRIM6KJ2B2YRXMEEA')\n",
        "df_comms.head(5)"
      ]
    },
    {
      "cell_type": "code",
      "execution_count": 3,
      "id": "864e7610",
      "metadata": {
        "id": "864e7610"
      },
      "outputs": [],
      "source": [
        "df_comms.drop(columns='Unnamed: 0', inplace=True)"
      ]
    },
    {
      "cell_type": "code",
      "execution_count": 4,
      "id": "dc95cf2b",
      "metadata": {
        "colab": {
          "base_uri": "https://localhost:8080/"
        },
        "id": "dc95cf2b",
        "outputId": "f8c59f50-8885-430c-c6ec-977521baf7da"
      },
      "outputs": [
        {
          "output_type": "execute_result",
          "data": {
            "text/plain": [
              "(37, 7)"
            ]
          },
          "metadata": {},
          "execution_count": 4
        }
      ],
      "source": [
        "df_comms.shape"
      ]
    },
    {
      "cell_type": "code",
      "source": [
        "#Aprovechamos para modificar el nombre de 'Año' a 'Fecha', para empalmar con otros dataframe mas adelante.\n",
        "\n",
        "df_comms.rename(columns={'Año':'Fecha'}, inplace=True)"
      ],
      "metadata": {
        "id": "XnYJd5jUff01"
      },
      "id": "XnYJd5jUff01",
      "execution_count": 5,
      "outputs": []
    },
    {
      "cell_type": "code",
      "execution_count": 6,
      "id": "aedf4d28",
      "metadata": {
        "colab": {
          "base_uri": "https://localhost:8080/"
        },
        "id": "aedf4d28",
        "outputId": "f86b2487-5078-46e7-82bc-1dfde2da2ca8"
      },
      "outputs": [
        {
          "output_type": "execute_result",
          "data": {
            "text/plain": [
              "Fecha          object\n",
              "Promedio      float64\n",
              "Alimentos     float64\n",
              "Industrial    float64\n",
              "Agro          float64\n",
              "Metales       float64\n",
              "Energia       float64\n",
              "dtype: object"
            ]
          },
          "metadata": {},
          "execution_count": 6
        }
      ],
      "source": [
        "df_comms.dtypes"
      ]
    },
    {
      "cell_type": "code",
      "source": [
        "# Mejoramos la apariencia y usabilidad de la columna Fecha."
      ],
      "metadata": {
        "id": "OKE4dOutzIoY"
      },
      "id": "OKE4dOutzIoY",
      "execution_count": 7,
      "outputs": []
    },
    {
      "cell_type": "code",
      "source": [
        "# Es necesario pasar la columna a tipo string primero, ya que es el tipo de datos que admite la funcion DateTime. \n",
        "\n",
        "df_comms['DateTime'] = pd.to_datetime(df_comms['Fecha'].astype(str), format='%m/%Y')\n",
        "df_comms.head(3)"
      ],
      "metadata": {
        "colab": {
          "base_uri": "https://localhost:8080/",
          "height": 144
        },
        "id": "ADX9OC6bzN9W",
        "outputId": "dd8f3d23-82a5-4e18-f15e-bebdb455bab3"
      },
      "id": "ADX9OC6bzN9W",
      "execution_count": 8,
      "outputs": [
        {
          "output_type": "execute_result",
          "data": {
            "text/plain": [
              "     Fecha    Promedio   Alimentos  Industrial        Agro     Metales  \\\n",
              "0  01/2019  117.078244  100.466542  118.836909  103.536150  114.711385   \n",
              "1  02/2019  119.011525   98.772205  125.808562  103.608780  120.811052   \n",
              "2  03/2019  119.910036   98.063110  127.539176  105.409046  121.105733   \n",
              "\n",
              "      Energia   DateTime  \n",
              "0  133.302098 2019-01-01  \n",
              "1  136.048817 2019-02-01  \n",
              "2  138.256367 2019-03-01  "
            ],
            "text/html": [
              "\n",
              "  <div id=\"df-8d84f122-4c75-4eb0-89b2-ab834cb8c840\">\n",
              "    <div class=\"colab-df-container\">\n",
              "      <div>\n",
              "<style scoped>\n",
              "    .dataframe tbody tr th:only-of-type {\n",
              "        vertical-align: middle;\n",
              "    }\n",
              "\n",
              "    .dataframe tbody tr th {\n",
              "        vertical-align: top;\n",
              "    }\n",
              "\n",
              "    .dataframe thead th {\n",
              "        text-align: right;\n",
              "    }\n",
              "</style>\n",
              "<table border=\"1\" class=\"dataframe\">\n",
              "  <thead>\n",
              "    <tr style=\"text-align: right;\">\n",
              "      <th></th>\n",
              "      <th>Fecha</th>\n",
              "      <th>Promedio</th>\n",
              "      <th>Alimentos</th>\n",
              "      <th>Industrial</th>\n",
              "      <th>Agro</th>\n",
              "      <th>Metales</th>\n",
              "      <th>Energia</th>\n",
              "      <th>DateTime</th>\n",
              "    </tr>\n",
              "  </thead>\n",
              "  <tbody>\n",
              "    <tr>\n",
              "      <th>0</th>\n",
              "      <td>01/2019</td>\n",
              "      <td>117.078244</td>\n",
              "      <td>100.466542</td>\n",
              "      <td>118.836909</td>\n",
              "      <td>103.536150</td>\n",
              "      <td>114.711385</td>\n",
              "      <td>133.302098</td>\n",
              "      <td>2019-01-01</td>\n",
              "    </tr>\n",
              "    <tr>\n",
              "      <th>1</th>\n",
              "      <td>02/2019</td>\n",
              "      <td>119.011525</td>\n",
              "      <td>98.772205</td>\n",
              "      <td>125.808562</td>\n",
              "      <td>103.608780</td>\n",
              "      <td>120.811052</td>\n",
              "      <td>136.048817</td>\n",
              "      <td>2019-02-01</td>\n",
              "    </tr>\n",
              "    <tr>\n",
              "      <th>2</th>\n",
              "      <td>03/2019</td>\n",
              "      <td>119.910036</td>\n",
              "      <td>98.063110</td>\n",
              "      <td>127.539176</td>\n",
              "      <td>105.409046</td>\n",
              "      <td>121.105733</td>\n",
              "      <td>138.256367</td>\n",
              "      <td>2019-03-01</td>\n",
              "    </tr>\n",
              "  </tbody>\n",
              "</table>\n",
              "</div>\n",
              "      <button class=\"colab-df-convert\" onclick=\"convertToInteractive('df-8d84f122-4c75-4eb0-89b2-ab834cb8c840')\"\n",
              "              title=\"Convert this dataframe to an interactive table.\"\n",
              "              style=\"display:none;\">\n",
              "        \n",
              "  <svg xmlns=\"http://www.w3.org/2000/svg\" height=\"24px\"viewBox=\"0 0 24 24\"\n",
              "       width=\"24px\">\n",
              "    <path d=\"M0 0h24v24H0V0z\" fill=\"none\"/>\n",
              "    <path d=\"M18.56 5.44l.94 2.06.94-2.06 2.06-.94-2.06-.94-.94-2.06-.94 2.06-2.06.94zm-11 1L8.5 8.5l.94-2.06 2.06-.94-2.06-.94L8.5 2.5l-.94 2.06-2.06.94zm10 10l.94 2.06.94-2.06 2.06-.94-2.06-.94-.94-2.06-.94 2.06-2.06.94z\"/><path d=\"M17.41 7.96l-1.37-1.37c-.4-.4-.92-.59-1.43-.59-.52 0-1.04.2-1.43.59L10.3 9.45l-7.72 7.72c-.78.78-.78 2.05 0 2.83L4 21.41c.39.39.9.59 1.41.59.51 0 1.02-.2 1.41-.59l7.78-7.78 2.81-2.81c.8-.78.8-2.07 0-2.86zM5.41 20L4 18.59l7.72-7.72 1.47 1.35L5.41 20z\"/>\n",
              "  </svg>\n",
              "      </button>\n",
              "      \n",
              "  <style>\n",
              "    .colab-df-container {\n",
              "      display:flex;\n",
              "      flex-wrap:wrap;\n",
              "      gap: 12px;\n",
              "    }\n",
              "\n",
              "    .colab-df-convert {\n",
              "      background-color: #E8F0FE;\n",
              "      border: none;\n",
              "      border-radius: 50%;\n",
              "      cursor: pointer;\n",
              "      display: none;\n",
              "      fill: #1967D2;\n",
              "      height: 32px;\n",
              "      padding: 0 0 0 0;\n",
              "      width: 32px;\n",
              "    }\n",
              "\n",
              "    .colab-df-convert:hover {\n",
              "      background-color: #E2EBFA;\n",
              "      box-shadow: 0px 1px 2px rgba(60, 64, 67, 0.3), 0px 1px 3px 1px rgba(60, 64, 67, 0.15);\n",
              "      fill: #174EA6;\n",
              "    }\n",
              "\n",
              "    [theme=dark] .colab-df-convert {\n",
              "      background-color: #3B4455;\n",
              "      fill: #D2E3FC;\n",
              "    }\n",
              "\n",
              "    [theme=dark] .colab-df-convert:hover {\n",
              "      background-color: #434B5C;\n",
              "      box-shadow: 0px 1px 3px 1px rgba(0, 0, 0, 0.15);\n",
              "      filter: drop-shadow(0px 1px 2px rgba(0, 0, 0, 0.3));\n",
              "      fill: #FFFFFF;\n",
              "    }\n",
              "  </style>\n",
              "\n",
              "      <script>\n",
              "        const buttonEl =\n",
              "          document.querySelector('#df-8d84f122-4c75-4eb0-89b2-ab834cb8c840 button.colab-df-convert');\n",
              "        buttonEl.style.display =\n",
              "          google.colab.kernel.accessAllowed ? 'block' : 'none';\n",
              "\n",
              "        async function convertToInteractive(key) {\n",
              "          const element = document.querySelector('#df-8d84f122-4c75-4eb0-89b2-ab834cb8c840');\n",
              "          const dataTable =\n",
              "            await google.colab.kernel.invokeFunction('convertToInteractive',\n",
              "                                                     [key], {});\n",
              "          if (!dataTable) return;\n",
              "\n",
              "          const docLinkHtml = 'Like what you see? Visit the ' +\n",
              "            '<a target=\"_blank\" href=https://colab.research.google.com/notebooks/data_table.ipynb>data table notebook</a>'\n",
              "            + ' to learn more about interactive tables.';\n",
              "          element.innerHTML = '';\n",
              "          dataTable['output_type'] = 'display_data';\n",
              "          await google.colab.output.renderOutput(dataTable, element);\n",
              "          const docLink = document.createElement('div');\n",
              "          docLink.innerHTML = docLinkHtml;\n",
              "          element.appendChild(docLink);\n",
              "        }\n",
              "      </script>\n",
              "    </div>\n",
              "  </div>\n",
              "  "
            ]
          },
          "metadata": {},
          "execution_count": 8
        }
      ]
    },
    {
      "cell_type": "code",
      "source": [
        "# Nos quedamos solo con DateTime.\n",
        "\n",
        "df_comms.drop(columns={'Fecha'}, inplace=True)"
      ],
      "metadata": {
        "id": "ELT0hl6x-hHV"
      },
      "id": "ELT0hl6x-hHV",
      "execution_count": 9,
      "outputs": []
    },
    {
      "cell_type": "code",
      "source": [
        "# Reordenamos \n",
        "\n",
        "Tituloscolumnas = ['DateTime','Alimentos','Industrial','Agro','Metales','Energia','Promedio']\n",
        "df_comms = df_comms.reindex(columns=Tituloscolumnas)"
      ],
      "metadata": {
        "id": "Lfe9EvAd-p6i"
      },
      "id": "Lfe9EvAd-p6i",
      "execution_count": 10,
      "outputs": []
    },
    {
      "cell_type": "code",
      "source": [
        "df_comms.head(5)"
      ],
      "metadata": {
        "colab": {
          "base_uri": "https://localhost:8080/",
          "height": 214
        },
        "id": "4Dg-fLPo--v6",
        "outputId": "660cd7e3-ee5f-447c-8c41-81e9d5b62849"
      },
      "id": "4Dg-fLPo--v6",
      "execution_count": null,
      "outputs": [
        {
          "output_type": "execute_result",
          "data": {
            "text/plain": [
              "    DateTime   Alimentos  Industrial        Agro     Metales     Energia  \\\n",
              "0 2019-01-01  100.466542  118.836909  103.536150  114.711385  133.302098   \n",
              "1 2019-02-01   98.772205  125.808562  103.608780  120.811052  136.048817   \n",
              "2 2019-03-01   98.063110  127.539176  105.409046  121.105733  138.256367   \n",
              "3 2019-04-01  101.569201  129.656529  104.681017  121.924057  143.768294   \n",
              "4 2019-05-01   98.094289  129.330578  105.436360  121.161561  139.410557   \n",
              "\n",
              "     Promedio  \n",
              "0  117.078244  \n",
              "1  119.011525  \n",
              "2  119.910036  \n",
              "3  123.416731  \n",
              "4  120.477541  "
            ],
            "text/html": [
              "\n",
              "  <div id=\"df-ebc9482c-fc3e-4f8e-8806-07af46e94ffe\">\n",
              "    <div class=\"colab-df-container\">\n",
              "      <div>\n",
              "<style scoped>\n",
              "    .dataframe tbody tr th:only-of-type {\n",
              "        vertical-align: middle;\n",
              "    }\n",
              "\n",
              "    .dataframe tbody tr th {\n",
              "        vertical-align: top;\n",
              "    }\n",
              "\n",
              "    .dataframe thead th {\n",
              "        text-align: right;\n",
              "    }\n",
              "</style>\n",
              "<table border=\"1\" class=\"dataframe\">\n",
              "  <thead>\n",
              "    <tr style=\"text-align: right;\">\n",
              "      <th></th>\n",
              "      <th>DateTime</th>\n",
              "      <th>Alimentos</th>\n",
              "      <th>Industrial</th>\n",
              "      <th>Agro</th>\n",
              "      <th>Metales</th>\n",
              "      <th>Energia</th>\n",
              "      <th>Promedio</th>\n",
              "    </tr>\n",
              "  </thead>\n",
              "  <tbody>\n",
              "    <tr>\n",
              "      <th>0</th>\n",
              "      <td>2019-01-01</td>\n",
              "      <td>100.466542</td>\n",
              "      <td>118.836909</td>\n",
              "      <td>103.536150</td>\n",
              "      <td>114.711385</td>\n",
              "      <td>133.302098</td>\n",
              "      <td>117.078244</td>\n",
              "    </tr>\n",
              "    <tr>\n",
              "      <th>1</th>\n",
              "      <td>2019-02-01</td>\n",
              "      <td>98.772205</td>\n",
              "      <td>125.808562</td>\n",
              "      <td>103.608780</td>\n",
              "      <td>120.811052</td>\n",
              "      <td>136.048817</td>\n",
              "      <td>119.011525</td>\n",
              "    </tr>\n",
              "    <tr>\n",
              "      <th>2</th>\n",
              "      <td>2019-03-01</td>\n",
              "      <td>98.063110</td>\n",
              "      <td>127.539176</td>\n",
              "      <td>105.409046</td>\n",
              "      <td>121.105733</td>\n",
              "      <td>138.256367</td>\n",
              "      <td>119.910036</td>\n",
              "    </tr>\n",
              "    <tr>\n",
              "      <th>3</th>\n",
              "      <td>2019-04-01</td>\n",
              "      <td>101.569201</td>\n",
              "      <td>129.656529</td>\n",
              "      <td>104.681017</td>\n",
              "      <td>121.924057</td>\n",
              "      <td>143.768294</td>\n",
              "      <td>123.416731</td>\n",
              "    </tr>\n",
              "    <tr>\n",
              "      <th>4</th>\n",
              "      <td>2019-05-01</td>\n",
              "      <td>98.094289</td>\n",
              "      <td>129.330578</td>\n",
              "      <td>105.436360</td>\n",
              "      <td>121.161561</td>\n",
              "      <td>139.410557</td>\n",
              "      <td>120.477541</td>\n",
              "    </tr>\n",
              "  </tbody>\n",
              "</table>\n",
              "</div>\n",
              "      <button class=\"colab-df-convert\" onclick=\"convertToInteractive('df-ebc9482c-fc3e-4f8e-8806-07af46e94ffe')\"\n",
              "              title=\"Convert this dataframe to an interactive table.\"\n",
              "              style=\"display:none;\">\n",
              "        \n",
              "  <svg xmlns=\"http://www.w3.org/2000/svg\" height=\"24px\"viewBox=\"0 0 24 24\"\n",
              "       width=\"24px\">\n",
              "    <path d=\"M0 0h24v24H0V0z\" fill=\"none\"/>\n",
              "    <path d=\"M18.56 5.44l.94 2.06.94-2.06 2.06-.94-2.06-.94-.94-2.06-.94 2.06-2.06.94zm-11 1L8.5 8.5l.94-2.06 2.06-.94-2.06-.94L8.5 2.5l-.94 2.06-2.06.94zm10 10l.94 2.06.94-2.06 2.06-.94-2.06-.94-.94-2.06-.94 2.06-2.06.94z\"/><path d=\"M17.41 7.96l-1.37-1.37c-.4-.4-.92-.59-1.43-.59-.52 0-1.04.2-1.43.59L10.3 9.45l-7.72 7.72c-.78.78-.78 2.05 0 2.83L4 21.41c.39.39.9.59 1.41.59.51 0 1.02-.2 1.41-.59l7.78-7.78 2.81-2.81c.8-.78.8-2.07 0-2.86zM5.41 20L4 18.59l7.72-7.72 1.47 1.35L5.41 20z\"/>\n",
              "  </svg>\n",
              "      </button>\n",
              "      \n",
              "  <style>\n",
              "    .colab-df-container {\n",
              "      display:flex;\n",
              "      flex-wrap:wrap;\n",
              "      gap: 12px;\n",
              "    }\n",
              "\n",
              "    .colab-df-convert {\n",
              "      background-color: #E8F0FE;\n",
              "      border: none;\n",
              "      border-radius: 50%;\n",
              "      cursor: pointer;\n",
              "      display: none;\n",
              "      fill: #1967D2;\n",
              "      height: 32px;\n",
              "      padding: 0 0 0 0;\n",
              "      width: 32px;\n",
              "    }\n",
              "\n",
              "    .colab-df-convert:hover {\n",
              "      background-color: #E2EBFA;\n",
              "      box-shadow: 0px 1px 2px rgba(60, 64, 67, 0.3), 0px 1px 3px 1px rgba(60, 64, 67, 0.15);\n",
              "      fill: #174EA6;\n",
              "    }\n",
              "\n",
              "    [theme=dark] .colab-df-convert {\n",
              "      background-color: #3B4455;\n",
              "      fill: #D2E3FC;\n",
              "    }\n",
              "\n",
              "    [theme=dark] .colab-df-convert:hover {\n",
              "      background-color: #434B5C;\n",
              "      box-shadow: 0px 1px 3px 1px rgba(0, 0, 0, 0.15);\n",
              "      filter: drop-shadow(0px 1px 2px rgba(0, 0, 0, 0.3));\n",
              "      fill: #FFFFFF;\n",
              "    }\n",
              "  </style>\n",
              "\n",
              "      <script>\n",
              "        const buttonEl =\n",
              "          document.querySelector('#df-ebc9482c-fc3e-4f8e-8806-07af46e94ffe button.colab-df-convert');\n",
              "        buttonEl.style.display =\n",
              "          google.colab.kernel.accessAllowed ? 'block' : 'none';\n",
              "\n",
              "        async function convertToInteractive(key) {\n",
              "          const element = document.querySelector('#df-ebc9482c-fc3e-4f8e-8806-07af46e94ffe');\n",
              "          const dataTable =\n",
              "            await google.colab.kernel.invokeFunction('convertToInteractive',\n",
              "                                                     [key], {});\n",
              "          if (!dataTable) return;\n",
              "\n",
              "          const docLinkHtml = 'Like what you see? Visit the ' +\n",
              "            '<a target=\"_blank\" href=https://colab.research.google.com/notebooks/data_table.ipynb>data table notebook</a>'\n",
              "            + ' to learn more about interactive tables.';\n",
              "          element.innerHTML = '';\n",
              "          dataTable['output_type'] = 'display_data';\n",
              "          await google.colab.output.renderOutput(dataTable, element);\n",
              "          const docLink = document.createElement('div');\n",
              "          docLink.innerHTML = docLinkHtml;\n",
              "          element.appendChild(docLink);\n",
              "        }\n",
              "      </script>\n",
              "    </div>\n",
              "  </div>\n",
              "  "
            ]
          },
          "metadata": {},
          "execution_count": 18
        }
      ]
    },
    {
      "cell_type": "code",
      "source": [
        "#Renombramos todo\n",
        "\n",
        "df_Indices_Commodities = df_comms"
      ],
      "metadata": {
        "id": "5j6O1Ha5Usbj"
      },
      "id": "5j6O1Ha5Usbj",
      "execution_count": 11,
      "outputs": []
    },
    {
      "cell_type": "code",
      "source": [
        "#Guardamos cambios \n",
        "\n",
        "df_Indices_Commodities.to_csv('Indices_Commodities.csv')"
      ],
      "metadata": {
        "id": "uwQNGCpnTUFy"
      },
      "id": "uwQNGCpnTUFy",
      "execution_count": 13,
      "outputs": []
    },
    {
      "cell_type": "code",
      "source": [
        "df_comms.info"
      ],
      "metadata": {
        "colab": {
          "base_uri": "https://localhost:8080/"
        },
        "id": "5Vliu4QJ_Pb7",
        "outputId": "a02032cf-a7b1-4b8b-c1f7-71e7e547a501"
      },
      "id": "5Vliu4QJ_Pb7",
      "execution_count": null,
      "outputs": [
        {
          "output_type": "execute_result",
          "data": {
            "text/plain": [
              "<bound method DataFrame.info of      DateTime   Alimentos  Industrial        Agro     Metales     Energia  \\\n",
              "0  2019-01-01  100.466542  118.836909  103.536150  114.711385  133.302098   \n",
              "1  2019-02-01   98.772205  125.808562  103.608780  120.811052  136.048817   \n",
              "2  2019-03-01   98.063110  127.539176  105.409046  121.105733  138.256367   \n",
              "3  2019-04-01  101.569201  129.656529  104.681017  121.924057  143.768294   \n",
              "4  2019-05-01   98.094289  129.330578  105.436360  121.161561  139.410557   \n",
              "5  2019-06-01  100.212841  130.989096  104.958595  125.339086  123.532319   \n",
              "6  2019-07-01  100.271974  134.433558  101.490499  130.726497  126.889777   \n",
              "7  2019-08-01   98.260430  123.198447   97.621066  126.910558  118.180128   \n",
              "8  2019-09-01   96.053058  124.101686   97.359429  128.684621  123.742531   \n",
              "9  2019-10-01   96.382200  121.736305   95.920179  126.835339  120.505405   \n",
              "10 2019-11-01  100.277643  119.009952   99.185988  123.452512  129.104171   \n",
              "11 2019-12-01  104.019084  122.086372   99.120569  126.111801  132.368241   \n",
              "12 2020-01-01  105.402563  124.487973  102.189213  131.148921  127.414325   \n",
              "13 2020-02-01  101.111476  118.312896   98.965873  129.416356  110.312332   \n",
              "14 2020-03-01   97.199983  113.212799   95.850782  124.549031   73.684533   \n",
              "15 2020-04-01   92.933630  108.406682   91.334755  125.338367   52.771306   \n",
              "16 2020-05-01   96.516706  112.803065   90.561779  129.602973   66.915249   \n",
              "17 2020-06-01   99.805668  120.717372   92.046821  135.670049   82.415155   \n",
              "18 2020-07-01   97.635718  125.860440   92.363574  143.912103   86.900745   \n",
              "19 2020-08-01   98.623680  133.782004   95.731299  154.698156   93.383917   \n",
              "20 2020-09-01   99.999653  136.651739   97.428888  154.732159   90.525042   \n",
              "21 2020-10-01  105.348153  137.755864  103.982065  153.181553   93.335327   \n",
              "22 2020-11-01  108.414774  144.381173  109.395015  155.413448  100.185359   \n",
              "23 2020-12-01  109.504034  159.485686  108.049126  166.122192  118.820421   \n",
              "24 2021-01-01  116.418897  167.374399  111.168747  171.694971  138.811125   \n",
              "25 2021-02-01  119.477476  170.254522  111.696886  171.874890  143.435942   \n",
              "26 2021-03-01  122.261367  174.963240  114.474404  171.284239  142.660980   \n",
              "27 2021-04-01  129.753654  181.237546  114.131176  177.889049  143.341765   \n",
              "28 2021-05-01  137.288020  198.168686  118.889546  192.490942  155.267282   \n",
              "29 2021-06-01  131.708532  203.753651  119.085099  194.960248  171.657611   \n",
              "30 2021-07-01  132.167485  202.228003  112.613753  193.937769  183.050594   \n",
              "31 2021-08-01  132.400054  183.272966  110.180505  179.700518  184.891426   \n",
              "32 2021-09-01  129.147962  167.860409  108.462567  168.119118  213.711309   \n",
              "33 2021-10-01  131.142625  172.158216  112.829024  170.064848  257.372357   \n",
              "34 2021-11-01  132.362196  161.528058  116.294941  163.824185  237.354472   \n",
              "35 2021-12-01  135.126663  168.617548  114.319145  166.990727  241.339613   \n",
              "36 2022-01-01  139.821403  182.846230  117.708599  177.855471  242.756336   \n",
              "\n",
              "      Promedio  \n",
              "0   117.078244  \n",
              "1   119.011525  \n",
              "2   119.910036  \n",
              "3   123.416731  \n",
              "4   120.477541  \n",
              "5   115.528942  \n",
              "6   117.967954  \n",
              "7   112.094914  \n",
              "8   114.809066  \n",
              "9   113.009014  \n",
              "10  116.981925  \n",
              "11  119.992378  \n",
              "12  119.566115  \n",
              "13  110.939746  \n",
              "14   93.730440  \n",
              "15   83.970511  \n",
              "16   91.333705  \n",
              "17   99.875276  \n",
              "18  103.080604  \n",
              "19  108.926838  \n",
              "20  108.208113  \n",
              "21  110.615430  \n",
              "22  115.143673  \n",
              "23  125.537048  \n",
              "24  137.394637  \n",
              "25  140.566779  \n",
              "26  141.246690  \n",
              "27  145.041207  \n",
              "28  155.669106  \n",
              "29  161.724283  \n",
              "30  166.137664  \n",
              "31  163.756477  \n",
              "32  172.670707  \n",
              "33  192.387050  \n",
              "34  183.839977  \n",
              "35  186.936123  \n",
              "36  190.899599  >"
            ]
          },
          "metadata": {},
          "execution_count": 19
        }
      ]
    },
    {
      "cell_type": "markdown",
      "source": [
        "ANALISIS UNIVARIADO"
      ],
      "metadata": {
        "id": "dmNRWSwk_bHM"
      },
      "id": "dmNRWSwk_bHM"
    },
    {
      "cell_type": "code",
      "execution_count": null,
      "id": "fd2d3d3e",
      "metadata": {
        "colab": {
          "base_uri": "https://localhost:8080/",
          "height": 552
        },
        "id": "fd2d3d3e",
        "outputId": "76f893d6-3264-4a1c-9c76-ca6139d57f95"
      },
      "outputs": [
        {
          "output_type": "execute_result",
          "data": {
            "text/plain": [
              "<matplotlib.axes._subplots.AxesSubplot at 0x7f4ef0b7e150>"
            ]
          },
          "metadata": {},
          "execution_count": 31
        },
        {
          "output_type": "display_data",
          "data": {
            "text/plain": [
              "<Figure size 720x576 with 1 Axes>"
            ],
            "image/png": "[encoded data removed]"
          },
          "metadata": {
            "needs_background": "light"
          }
        }
      ],
      "source": [
        "#Comencemos con un grafico de barras acumulado:\n",
        "#  Toma el indice (representante del tiempo) como ejeX, y excluimos al promedio del ejeY.\n",
        "\n",
        "df_comms.plot.bar(x='Fecha', y=['Alimentos', 'Industrial', 'Agro', 'Metales', 'Energia'] , stacked=True, figsize=(10,8))"
      ]
    },
    {
      "cell_type": "code",
      "execution_count": null,
      "id": "94da56df",
      "metadata": {
        "scrolled": true,
        "colab": {
          "base_uri": "https://localhost:8080/",
          "height": 552
        },
        "id": "94da56df",
        "outputId": "c631ab52-2540-4282-96be-9db298073df4"
      },
      "outputs": [
        {
          "output_type": "execute_result",
          "data": {
            "text/plain": [
              "<matplotlib.axes._subplots.AxesSubplot at 0x7f4ef0f94850>"
            ]
          },
          "metadata": {},
          "execution_count": 27
        },
        {
          "output_type": "display_data",
          "data": {
            "text/plain": [
              "<Figure size 720x576 with 1 Axes>"
            ],
            "image/png": "[encoded data removed]"
          },
          "metadata": {
            "needs_background": "light"
          }
        }
      ],
      "source": [
        "# Otro solo para el promedio\n",
        "\n",
        "df_comms.plot.bar(x='Fecha', y='Promedio', figsize=(10,8))"
      ]
    },
    {
      "cell_type": "code",
      "execution_count": null,
      "id": "b86d7dd7",
      "metadata": {
        "colab": {
          "base_uri": "https://localhost:8080/",
          "height": 206
        },
        "id": "b86d7dd7",
        "outputId": "b58c994f-52d6-4b60-b94f-2765d640e141"
      },
      "outputs": [
        {
          "output_type": "execute_result",
          "data": {
            "text/plain": [
              "                    36\n",
              "Alimentos   139.821403\n",
              "Industrial  182.846230\n",
              "Agro        117.708599\n",
              "Metales     177.855471\n",
              "Energia     242.756336"
            ],
            "text/html": [
              "\n",
              "  <div id=\"df-d783f9b6-0b6e-4baa-95e3-4dd668e8ec20\">\n",
              "    <div class=\"colab-df-container\">\n",
              "      <div>\n",
              "<style scoped>\n",
              "    .dataframe tbody tr th:only-of-type {\n",
              "        vertical-align: middle;\n",
              "    }\n",
              "\n",
              "    .dataframe tbody tr th {\n",
              "        vertical-align: top;\n",
              "    }\n",
              "\n",
              "    .dataframe thead th {\n",
              "        text-align: right;\n",
              "    }\n",
              "</style>\n",
              "<table border=\"1\" class=\"dataframe\">\n",
              "  <thead>\n",
              "    <tr style=\"text-align: right;\">\n",
              "      <th></th>\n",
              "      <th>36</th>\n",
              "    </tr>\n",
              "  </thead>\n",
              "  <tbody>\n",
              "    <tr>\n",
              "      <th>Alimentos</th>\n",
              "      <td>139.821403</td>\n",
              "    </tr>\n",
              "    <tr>\n",
              "      <th>Industrial</th>\n",
              "      <td>182.846230</td>\n",
              "    </tr>\n",
              "    <tr>\n",
              "      <th>Agro</th>\n",
              "      <td>117.708599</td>\n",
              "    </tr>\n",
              "    <tr>\n",
              "      <th>Metales</th>\n",
              "      <td>177.855471</td>\n",
              "    </tr>\n",
              "    <tr>\n",
              "      <th>Energia</th>\n",
              "      <td>242.756336</td>\n",
              "    </tr>\n",
              "  </tbody>\n",
              "</table>\n",
              "</div>\n",
              "      <button class=\"colab-df-convert\" onclick=\"convertToInteractive('df-d783f9b6-0b6e-4baa-95e3-4dd668e8ec20')\"\n",
              "              title=\"Convert this dataframe to an interactive table.\"\n",
              "              style=\"display:none;\">\n",
              "        \n",
              "  <svg xmlns=\"http://www.w3.org/2000/svg\" height=\"24px\"viewBox=\"0 0 24 24\"\n",
              "       width=\"24px\">\n",
              "    <path d=\"M0 0h24v24H0V0z\" fill=\"none\"/>\n",
              "    <path d=\"M18.56 5.44l.94 2.06.94-2.06 2.06-.94-2.06-.94-.94-2.06-.94 2.06-2.06.94zm-11 1L8.5 8.5l.94-2.06 2.06-.94-2.06-.94L8.5 2.5l-.94 2.06-2.06.94zm10 10l.94 2.06.94-2.06 2.06-.94-2.06-.94-.94-2.06-.94 2.06-2.06.94z\"/><path d=\"M17.41 7.96l-1.37-1.37c-.4-.4-.92-.59-1.43-.59-.52 0-1.04.2-1.43.59L10.3 9.45l-7.72 7.72c-.78.78-.78 2.05 0 2.83L4 21.41c.39.39.9.59 1.41.59.51 0 1.02-.2 1.41-.59l7.78-7.78 2.81-2.81c.8-.78.8-2.07 0-2.86zM5.41 20L4 18.59l7.72-7.72 1.47 1.35L5.41 20z\"/>\n",
              "  </svg>\n",
              "      </button>\n",
              "      \n",
              "  <style>\n",
              "    .colab-df-container {\n",
              "      display:flex;\n",
              "      flex-wrap:wrap;\n",
              "      gap: 12px;\n",
              "    }\n",
              "\n",
              "    .colab-df-convert {\n",
              "      background-color: #E8F0FE;\n",
              "      border: none;\n",
              "      border-radius: 50%;\n",
              "      cursor: pointer;\n",
              "      display: none;\n",
              "      fill: #1967D2;\n",
              "      height: 32px;\n",
              "      padding: 0 0 0 0;\n",
              "      width: 32px;\n",
              "    }\n",
              "\n",
              "    .colab-df-convert:hover {\n",
              "      background-color: #E2EBFA;\n",
              "      box-shadow: 0px 1px 2px rgba(60, 64, 67, 0.3), 0px 1px 3px 1px rgba(60, 64, 67, 0.15);\n",
              "      fill: #174EA6;\n",
              "    }\n",
              "\n",
              "    [theme=dark] .colab-df-convert {\n",
              "      background-color: #3B4455;\n",
              "      fill: #D2E3FC;\n",
              "    }\n",
              "\n",
              "    [theme=dark] .colab-df-convert:hover {\n",
              "      background-color: #434B5C;\n",
              "      box-shadow: 0px 1px 3px 1px rgba(0, 0, 0, 0.15);\n",
              "      filter: drop-shadow(0px 1px 2px rgba(0, 0, 0, 0.3));\n",
              "      fill: #FFFFFF;\n",
              "    }\n",
              "  </style>\n",
              "\n",
              "      <script>\n",
              "        const buttonEl =\n",
              "          document.querySelector('#df-d783f9b6-0b6e-4baa-95e3-4dd668e8ec20 button.colab-df-convert');\n",
              "        buttonEl.style.display =\n",
              "          google.colab.kernel.accessAllowed ? 'block' : 'none';\n",
              "\n",
              "        async function convertToInteractive(key) {\n",
              "          const element = document.querySelector('#df-d783f9b6-0b6e-4baa-95e3-4dd668e8ec20');\n",
              "          const dataTable =\n",
              "            await google.colab.kernel.invokeFunction('convertToInteractive',\n",
              "                                                     [key], {});\n",
              "          if (!dataTable) return;\n",
              "\n",
              "          const docLinkHtml = 'Like what you see? Visit the ' +\n",
              "            '<a target=\"_blank\" href=https://colab.research.google.com/notebooks/data_table.ipynb>data table notebook</a>'\n",
              "            + ' to learn more about interactive tables.';\n",
              "          element.innerHTML = '';\n",
              "          dataTable['output_type'] = 'display_data';\n",
              "          await google.colab.output.renderOutput(dataTable, element);\n",
              "          const docLink = document.createElement('div');\n",
              "          docLink.innerHTML = docLinkHtml;\n",
              "          element.appendChild(docLink);\n",
              "        }\n",
              "      </script>\n",
              "    </div>\n",
              "  </div>\n",
              "  "
            ]
          },
          "metadata": {},
          "execution_count": 29
        }
      ],
      "source": [
        "#Seleccionamos el ultimo mes disponible para realizar una visualizacion\n",
        "\n",
        "df_2022M1 = (df_comms.loc[[36]])\n",
        "df_2022M1.drop(columns=['Promedio','Fecha'], inplace=True)    #Dejamos solo las variables a comparar\n",
        "df_2022 = df_2022M1.transpose()                             # Invertimos filas y columnas para facilitar la visualizacion\n",
        "df_2022"
      ]
    },
    {
      "cell_type": "code",
      "execution_count": null,
      "id": "4c8e367c",
      "metadata": {
        "colab": {
          "base_uri": "https://localhost:8080/",
          "height": 264
        },
        "id": "4c8e367c",
        "outputId": "a1d8a976-1bc1-44dc-9ce9-eced938a65d6"
      },
      "outputs": [
        {
          "output_type": "display_data",
          "data": {
            "text/plain": [
              "<Figure size 432x288 with 1 Axes>"
            ],
            "image/png": "[encoded data removed]"
          },
          "metadata": {}
        }
      ],
      "source": [
        "# Hagamos un grafico de torta para visualizar cuanto ocupa cada sector dentro del promedio para el ultimo año\n",
        "\n",
        "\n",
        "x = (df_2022[36])\n",
        "labels = ['Alimentos', 'Industrial', 'Agro', 'Metales', 'Energia']\n",
        "\n",
        "fig, ax = plt.subplots()\n",
        "ax.pie(x, labels = labels,autopct='%.0f%%', radius=1)\n",
        "\n",
        "ax.set_title('Presencia de cada Sector sobre el Indices Total Promedio de Commodities, Enero 2022')\n",
        "plt.show()"
      ]
    }
  ],
  "metadata": {
    "kernelspec": {
      "display_name": "Python 3 (ipykernel)",
      "language": "python",
      "name": "python3"
    },
    "language_info": {
      "codemirror_mode": {
        "name": "ipython",
        "version": 3
      },
      "file_extension": ".py",
      "mimetype": "text/x-python",
      "name": "python",
      "nbconvert_exporter": "python",
      "pygments_lexer": "ipython3",
      "version": "3.9.5"
    },
    "colab": {
      "name": "Indices Comoddities.ipynb",
      "provenance": [],
      "collapsed_sections": [],
      "include_colab_link": true
    }
  },
  "nbformat": 4,
  "nbformat_minor": 5
}